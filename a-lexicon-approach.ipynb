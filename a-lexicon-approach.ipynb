{
 "cells": [
  {
   "cell_type": "markdown",
   "id": "26f755ad",
   "metadata": {
    "papermill": {
     "duration": 0.030859,
     "end_time": "2022-02-01T15:37:51.834011",
     "exception": false,
     "start_time": "2022-02-01T15:37:51.803152",
     "status": "completed"
    },
    "tags": []
   },
   "source": [
    "# ***Sentiment Analysis on Moroccan Arabic Dialect: A Lexicon Approach***"
   ]
  },
  {
   "cell_type": "markdown",
   "id": "c1e725f4",
   "metadata": {
    "papermill": {
     "duration": 0.029237,
     "end_time": "2022-02-01T15:37:51.893449",
     "exception": false,
     "start_time": "2022-02-01T15:37:51.864212",
     "status": "completed"
    },
    "tags": []
   },
   "source": [
    "### Unsupervised or The Lexicon-based approach uses pre-prepared sentiment lexicon to score a document by aggregating the sentiment scores of all the words in the document. With this approach a dictionary of positive and negative words is required, with a positive or negative sentiment value assigned to each of the words. Different approaches to creating dictionaries have been proposed, including manual and automatic approaches."
   ]
  },
  {
   "cell_type": "markdown",
   "id": "3f9aaef0",
   "metadata": {
    "execution": {
     "iopub.execute_input": "2022-01-21T19:09:40.102105Z",
     "iopub.status.busy": "2022-01-21T19:09:40.101808Z",
     "iopub.status.idle": "2022-01-21T19:09:40.108001Z",
     "shell.execute_reply": "2022-01-21T19:09:40.106637Z",
     "shell.execute_reply.started": "2022-01-21T19:09:40.102078Z"
    },
    "papermill": {
     "duration": 0.0297,
     "end_time": "2022-02-01T15:37:51.952857",
     "exception": false,
     "start_time": "2022-02-01T15:37:51.923157",
     "status": "completed"
    },
    "tags": []
   },
   "source": [
    "## **Importing the required libraries**"
   ]
  },
  {
   "cell_type": "markdown",
   "id": "61e2b905",
   "metadata": {
    "papermill": {
     "duration": 0.029204,
     "end_time": "2022-02-01T15:37:52.011487",
     "exception": false,
     "start_time": "2022-02-01T15:37:51.982283",
     "status": "completed"
    },
    "tags": []
   },
   "source": [
    "### In our work, we have decided to apply a lexicon-based approach in order to avoid the need to generate the labelled training set which is a bit small to get a great classification score (in our second notebook you will find the supervised method with the training steps). \n",
    "### the fact that a lexicon-based approach can be more easily understood and modified by a human is considered a significant advantage for our work.\n",
    "### In lexicon-based classification, data is assigned labels by comparing the number of words that appear from two opposed lexicons, such as positive and negative sentiment. Creating such words lists is often easier than labeling instances, Each word has a polarity (1 or 0 for positive or negative respectively).\n",
    "### The dictionaries could be built manually or automatically, using seed words to expands the list of words.\n"
   ]
  },
  {
   "cell_type": "code",
   "execution_count": 1,
   "id": "992c1c73",
   "metadata": {
    "execution": {
     "iopub.execute_input": "2022-02-01T15:37:52.082879Z",
     "iopub.status.busy": "2022-02-01T15:37:52.081942Z",
     "iopub.status.idle": "2022-02-01T15:38:22.208922Z",
     "shell.execute_reply": "2022-02-01T15:38:22.209563Z",
     "shell.execute_reply.started": "2022-02-01T15:01:30.294481Z"
    },
    "papermill": {
     "duration": 30.168234,
     "end_time": "2022-02-01T15:38:22.209870",
     "exception": false,
     "start_time": "2022-02-01T15:37:52.041636",
     "status": "completed"
    },
    "tags": []
   },
   "outputs": [
    {
     "name": "stdout",
     "output_type": "stream",
     "text": [
      "Requirement already satisfied: pyarabic in /opt/conda/lib/python3.7/site-packages (0.6.14)\r\n",
      "Requirement already satisfied: six>=1.14.0 in /opt/conda/lib/python3.7/site-packages (from pyarabic) (1.16.0)\r\n",
      "\u001b[33mWARNING: Running pip as the 'root' user can result in broken permissions and conflicting behaviour with the system package manager. It is recommended to use a virtual environment instead: https://pip.pypa.io/warnings/venv\u001b[0m\r\n"
     ]
    }
   ],
   "source": [
    "!pip install pyarabic"
   ]
  },
  {
   "cell_type": "code",
   "execution_count": 2,
   "id": "ba3a0322",
   "metadata": {
    "execution": {
     "iopub.execute_input": "2022-02-01T15:38:22.281499Z",
     "iopub.status.busy": "2022-02-01T15:38:22.280341Z",
     "iopub.status.idle": "2022-02-01T15:38:23.996901Z",
     "shell.execute_reply": "2022-02-01T15:38:23.997522Z",
     "shell.execute_reply.started": "2022-02-01T15:02:00.546434Z"
    },
    "papermill": {
     "duration": 1.753507,
     "end_time": "2022-02-01T15:38:23.997713",
     "exception": false,
     "start_time": "2022-02-01T15:38:22.244206",
     "status": "completed"
    },
    "tags": []
   },
   "outputs": [],
   "source": [
    "from os import listdir\n",
    "from os.path import isfile, join\n",
    "import re #for regular expressions\n",
    "import pandas as pd \n",
    "pd.set_option(\"display.max_colwidth\", 200)\n",
    "import numpy as np \n",
    "#import matplotlib.pyplot as plt \n",
    "#import seaborn as sns\n",
    "#import string\n",
    "import nltk # for text manipulation\n",
    "import warnings\n",
    "warnings.filterwarnings(\"ignore\", category=DeprecationWarning)\n",
    "from matplotlib import pyplot as plt\n",
    "#from aaransia import transliterate, SourceLanguageError\n",
    "import codecs\n",
    "import unicodedata as ud\n",
    "#from tashaphyne.stemming import ArabicLightStemmer\n",
    "import pyarabic.araby as araby\n",
    "from textblob import TextBlob\n",
    "from nltk.corpus import stopwords\n",
    "\n",
    "from sklearn import metrics\n",
    "from sklearn.metrics import f1_score\n",
    "from sklearn.metrics import precision_score\n",
    "from sklearn.metrics import recall_score\n",
    "from sklearn.metrics import confusion_matrix\n",
    "from sklearn.metrics import classification_report\n",
    "from sklearn.metrics import recall_score\n"
   ]
  },
  {
   "cell_type": "code",
   "execution_count": 3,
   "id": "f3217c29",
   "metadata": {
    "execution": {
     "iopub.execute_input": "2022-02-01T15:38:24.065679Z",
     "iopub.status.busy": "2022-02-01T15:38:24.064828Z",
     "iopub.status.idle": "2022-02-01T15:38:24.105448Z",
     "shell.execute_reply": "2022-02-01T15:38:24.106201Z",
     "shell.execute_reply.started": "2022-02-01T15:02:02.202507Z"
    },
    "papermill": {
     "duration": 0.07698,
     "end_time": "2022-02-01T15:38:24.106455",
     "exception": false,
     "start_time": "2022-02-01T15:38:24.029475",
     "status": "completed"
    },
    "tags": []
   },
   "outputs": [
    {
     "data": {
      "text/html": [
       "<div>\n",
       "<style scoped>\n",
       "    .dataframe tbody tr th:only-of-type {\n",
       "        vertical-align: middle;\n",
       "    }\n",
       "\n",
       "    .dataframe tbody tr th {\n",
       "        vertical-align: top;\n",
       "    }\n",
       "\n",
       "    .dataframe thead th {\n",
       "        text-align: right;\n",
       "    }\n",
       "</style>\n",
       "<table border=\"1\" class=\"dataframe\">\n",
       "  <thead>\n",
       "    <tr style=\"text-align: right;\">\n",
       "      <th></th>\n",
       "      <th>ID</th>\n",
       "      <th>comment</th>\n",
       "    </tr>\n",
       "  </thead>\n",
       "  <tbody>\n",
       "    <tr>\n",
       "      <th>0</th>\n",
       "      <td>1</td>\n",
       "      <td>التلقيح نعمة لانه فابور,الناس في مصر را كتخلص عليه</td>\n",
       "    </tr>\n",
       "    <tr>\n",
       "      <th>1</th>\n",
       "      <td>2</td>\n",
       "      <td>أثبت التلقيح أهميته في الحد من الوفيات</td>\n",
       "    </tr>\n",
       "    <tr>\n",
       "      <th>2</th>\n",
       "      <td>3</td>\n",
       "      <td>انا ملقح جوج مرات والحمد لله عندي المناعة ديالي حيت درت التلقيح ومعندي حتى مشكل ومتشكر المسؤولين وملكنا الحبيب</td>\n",
       "    </tr>\n",
       "    <tr>\n",
       "      <th>3</th>\n",
       "      <td>4</td>\n",
       "      <td>كنــا متأكديــن من أن جلالـة الملــك سيجعل التلقيـح مجاني لكل المغاربة وحتى الأجانب ، وكنا متأكدين أنه أول من سيقوم يالتلقيح ، ليس لتحفيزنا ، وزرع الثقة ، لكن بوصفه قائدنا الأول ، و الساهر على سلا...</td>\n",
       "    </tr>\n",
       "    <tr>\n",
       "      <th>4</th>\n",
       "      <td>5</td>\n",
       "      <td>شعب أناني مشبع بثقافة الخرافة والمؤامرة… بنادم عندو هانية يضر ملايين آخرين باش يرضي الغرور ديالو ونزعة المؤامرة اللي مزروعة ليه فالمخ بحال يلا تصنع لينا اليورانيوم المخصب غادي يستهدفوه باش يقضيوا ...</td>\n",
       "    </tr>\n",
       "    <tr>\n",
       "      <th>...</th>\n",
       "      <td>...</td>\n",
       "      <td>...</td>\n",
       "    </tr>\n",
       "    <tr>\n",
       "      <th>235</th>\n",
       "      <td>236</td>\n",
       "      <td>\\nحنا المشكل ديالنا هما الفيروسات البشرية أما الفيروسات الأخرى ولله الحمد لدينا مناعة ربانية تحمينا حنا راه ماشي قطيع ديال الأغنام باش كتقولوا مناعة جماعية سيرو ديرو التلقيح الأصحاب الرضاعة اللي ك...</td>\n",
       "    </tr>\n",
       "    <tr>\n",
       "      <th>236</th>\n",
       "      <td>237</td>\n",
       "      <td>\\nالسيد بلفقيه، اسمحوا لي بسؤال : هل الملقحون يصابون بكوفيد19 ؟؟؟ هل ينقلون العدوى للآخرين؟؟؟\\nحسب ما حدث في كل بقاع العالم من انتشار المتحور دلتا، تأكد أن الملقحين يصابون و ينقلون العدوى…..\\nالسؤ...</td>\n",
       "    </tr>\n",
       "    <tr>\n",
       "      <th>237</th>\n",
       "      <td>238</td>\n",
       "      <td>اللقاح هدفه هو تقليص عدد سكان العالم لأنه أصبح جد دروري الوصول لهدفهم سيكون عبر تحديد النسل في الأخير هدا الوباء هو إعلامي و إقتصادي أكتر من صحي</td>\n",
       "    </tr>\n",
       "    <tr>\n",
       "      <th>238</th>\n",
       "      <td>239</td>\n",
       "      <td>\\nاخوتي في الله انه و بعد يقين في الله قررت ان لا اتلقى اي لقاح كما هي الابقار لها حرية اختيار المسلك الدي ترتضيه الى مصيرها المحتوم … و لكن و بعد الحاح من طرف كل أفراد العائلة قررت ان أتلقى اللقا...</td>\n",
       "    </tr>\n",
       "    <tr>\n",
       "      <th>239</th>\n",
       "      <td>240</td>\n",
       "      <td>\\nانضمو الى اتحاد المغاربة الرافضين لجواز التلقيح لتكثيف قوتنا ضد إنتهاكات حقوق أساسية\\n</td>\n",
       "    </tr>\n",
       "  </tbody>\n",
       "</table>\n",
       "<p>240 rows × 2 columns</p>\n",
       "</div>"
      ],
      "text/plain": [
       "      ID  \\\n",
       "0      1   \n",
       "1      2   \n",
       "2      3   \n",
       "3      4   \n",
       "4      5   \n",
       "..   ...   \n",
       "235  236   \n",
       "236  237   \n",
       "237  238   \n",
       "238  239   \n",
       "239  240   \n",
       "\n",
       "                                                                                                                                                                                                     comment  \n",
       "0                                                                                                                                                         التلقيح نعمة لانه فابور,الناس في مصر را كتخلص عليه  \n",
       "1                                                                                                                                                                     أثبت التلقيح أهميته في الحد من الوفيات  \n",
       "2                                                                                             انا ملقح جوج مرات والحمد لله عندي المناعة ديالي حيت درت التلقيح ومعندي حتى مشكل ومتشكر المسؤولين وملكنا الحبيب  \n",
       "3    كنــا متأكديــن من أن جلالـة الملــك سيجعل التلقيـح مجاني لكل المغاربة وحتى الأجانب ، وكنا متأكدين أنه أول من سيقوم يالتلقيح ، ليس لتحفيزنا ، وزرع الثقة ، لكن بوصفه قائدنا الأول ، و الساهر على سلا...  \n",
       "4    شعب أناني مشبع بثقافة الخرافة والمؤامرة… بنادم عندو هانية يضر ملايين آخرين باش يرضي الغرور ديالو ونزعة المؤامرة اللي مزروعة ليه فالمخ بحال يلا تصنع لينا اليورانيوم المخصب غادي يستهدفوه باش يقضيوا ...  \n",
       "..                                                                                                                                                                                                       ...  \n",
       "235  \\nحنا المشكل ديالنا هما الفيروسات البشرية أما الفيروسات الأخرى ولله الحمد لدينا مناعة ربانية تحمينا حنا راه ماشي قطيع ديال الأغنام باش كتقولوا مناعة جماعية سيرو ديرو التلقيح الأصحاب الرضاعة اللي ك...  \n",
       "236  \\nالسيد بلفقيه، اسمحوا لي بسؤال : هل الملقحون يصابون بكوفيد19 ؟؟؟ هل ينقلون العدوى للآخرين؟؟؟\\nحسب ما حدث في كل بقاع العالم من انتشار المتحور دلتا، تأكد أن الملقحين يصابون و ينقلون العدوى…..\\nالسؤ...  \n",
       "237                                                         اللقاح هدفه هو تقليص عدد سكان العالم لأنه أصبح جد دروري الوصول لهدفهم سيكون عبر تحديد النسل في الأخير هدا الوباء هو إعلامي و إقتصادي أكتر من صحي  \n",
       "238  \\nاخوتي في الله انه و بعد يقين في الله قررت ان لا اتلقى اي لقاح كما هي الابقار لها حرية اختيار المسلك الدي ترتضيه الى مصيرها المحتوم … و لكن و بعد الحاح من طرف كل أفراد العائلة قررت ان أتلقى اللقا...  \n",
       "239                                                                                                                 \\nانضمو الى اتحاد المغاربة الرافضين لجواز التلقيح لتكثيف قوتنا ضد إنتهاكات حقوق أساسية\\n  \n",
       "\n",
       "[240 rows x 2 columns]"
      ]
     },
     "execution_count": 3,
     "metadata": {},
     "output_type": "execute_result"
    }
   ],
   "source": [
    "data = pd.read_csv(\"../input/sentiment-analysis-on-moroccan-arabic-dialect/test_stage1.csv\")\n",
    "data"
   ]
  },
  {
   "cell_type": "markdown",
   "id": "edf57664",
   "metadata": {
    "execution": {
     "iopub.execute_input": "2022-01-21T19:21:37.830767Z",
     "iopub.status.busy": "2022-01-21T19:21:37.829874Z",
     "iopub.status.idle": "2022-01-21T19:21:37.833895Z",
     "shell.execute_reply": "2022-01-21T19:21:37.833191Z",
     "shell.execute_reply.started": "2022-01-21T19:21:37.830729Z"
    },
    "papermill": {
     "duration": 0.038625,
     "end_time": "2022-02-01T15:38:24.186244",
     "exception": false,
     "start_time": "2022-02-01T15:38:24.147619",
     "status": "completed"
    },
    "tags": []
   },
   "source": [
    "## **Data preprocessing:**"
   ]
  },
  {
   "cell_type": "markdown",
   "id": "0871043c",
   "metadata": {
    "papermill": {
     "duration": 0.03223,
     "end_time": "2022-02-01T15:38:24.250782",
     "exception": false,
     "start_time": "2022-02-01T15:38:24.218552",
     "status": "completed"
    },
    "tags": []
   },
   "source": [
    "#### Text data is one of the most unstructured forms of available data and when comes to deal with Human language then it’s too complex, it contains noise in various forms like emotions, punctuation, text in a different case.\n",
    "#### Cleaning or preprocessing the data is as important as model building it is used to clean the text data, make it predictable and analyzable so it can be given to the model.\n",
    "#### There are different ways to preprocess the Data:"
   ]
  },
  {
   "cell_type": "markdown",
   "id": "58f386b1",
   "metadata": {
    "papermill": {
     "duration": 0.03223,
     "end_time": "2022-02-01T15:38:24.316511",
     "exception": false,
     "start_time": "2022-02-01T15:38:24.284281",
     "status": "completed"
    },
    "tags": []
   },
   "source": [
    "### **Stop Words**"
   ]
  },
  {
   "cell_type": "markdown",
   "id": "0c28c116",
   "metadata": {
    "papermill": {
     "duration": 0.032043,
     "end_time": "2022-02-01T15:38:24.381142",
     "exception": false,
     "start_time": "2022-02-01T15:38:24.349099",
     "status": "completed"
    },
    "tags": []
   },
   "source": [
    "#### NLTK library is a common library that is used to remove stop words and include approximately 243 stop words which it removes.\n",
    "#### I created a new set of words that contains 226 stop words in Moroccan dialect."
   ]
  },
  {
   "cell_type": "code",
   "execution_count": 4,
   "id": "1635e94b",
   "metadata": {
    "execution": {
     "iopub.execute_input": "2022-02-01T15:38:24.448443Z",
     "iopub.status.busy": "2022-02-01T15:38:24.447458Z",
     "iopub.status.idle": "2022-02-01T15:38:24.452191Z",
     "shell.execute_reply": "2022-02-01T15:38:24.452727Z",
     "shell.execute_reply.started": "2022-02-01T15:02:02.244257Z"
    },
    "papermill": {
     "duration": 0.040396,
     "end_time": "2022-02-01T15:38:24.452899",
     "exception": false,
     "start_time": "2022-02-01T15:38:24.412503",
     "status": "completed"
    },
    "tags": []
   },
   "outputs": [],
   "source": [
    "def get_stops():\n",
    "    with codecs.open(\"../input/lexicon-based-approach-data/stop_words_Maroc.txt\", encoding=\"utf-8\", errors=\"ignore\") as myfile:\n",
    "         get_stops=myfile.read()\n",
    "    get_stops=get_stops.split()\n",
    "    return get_stops"
   ]
  },
  {
   "cell_type": "code",
   "execution_count": 5,
   "id": "e972db9c",
   "metadata": {
    "execution": {
     "iopub.execute_input": "2022-02-01T15:38:24.519836Z",
     "iopub.status.busy": "2022-02-01T15:38:24.519075Z",
     "iopub.status.idle": "2022-02-01T15:38:24.531485Z",
     "shell.execute_reply": "2022-02-01T15:38:24.532023Z",
     "shell.execute_reply.started": "2022-02-01T15:02:02.252914Z"
    },
    "papermill": {
     "duration": 0.048287,
     "end_time": "2022-02-01T15:38:24.532197",
     "exception": false,
     "start_time": "2022-02-01T15:38:24.483910",
     "status": "completed"
    },
    "tags": []
   },
   "outputs": [
    {
     "data": {
      "text/plain": [
       "701"
      ]
     },
     "execution_count": 5,
     "metadata": {},
     "output_type": "execute_result"
    }
   ],
   "source": [
    "stops = set(stopwords.words(\"arabic\"))\n",
    "len(stops)"
   ]
  },
  {
   "cell_type": "markdown",
   "id": "115a62dd",
   "metadata": {
    "papermill": {
     "duration": 0.03124,
     "end_time": "2022-02-01T15:38:24.595670",
     "exception": false,
     "start_time": "2022-02-01T15:38:24.564430",
     "status": "completed"
    },
    "tags": []
   },
   "source": [
    "#### I create a function ‘remove_stopwords’ that's going to remove the Stop Words which do not contain important significance to be used in sentiment analysis."
   ]
  },
  {
   "cell_type": "code",
   "execution_count": 6,
   "id": "dc9fdd3d",
   "metadata": {
    "execution": {
     "iopub.execute_input": "2022-02-01T15:38:24.662959Z",
     "iopub.status.busy": "2022-02-01T15:38:24.662334Z",
     "iopub.status.idle": "2022-02-01T15:38:24.666924Z",
     "shell.execute_reply": "2022-02-01T15:38:24.667748Z",
     "shell.execute_reply.started": "2022-02-01T15:02:02.271813Z"
    },
    "papermill": {
     "duration": 0.039701,
     "end_time": "2022-02-01T15:38:24.667932",
     "exception": false,
     "start_time": "2022-02-01T15:38:24.628231",
     "status": "completed"
    },
    "tags": []
   },
   "outputs": [],
   "source": [
    "def remove_stop_words(text):\n",
    "    zen = TextBlob(text)\n",
    "    words = zen.words\n",
    "    return \" \".join([w for w in words if not w in stops and not w in get_stops()  and len(w) >= 2])"
   ]
  },
  {
   "cell_type": "markdown",
   "id": "f661a775",
   "metadata": {
    "papermill": {
     "duration": 0.033613,
     "end_time": "2022-02-01T15:38:24.735480",
     "exception": false,
     "start_time": "2022-02-01T15:38:24.701867",
     "status": "completed"
    },
    "tags": []
   },
   "source": [
    "### **Normalization**"
   ]
  },
  {
   "cell_type": "markdown",
   "id": "356d62d8",
   "metadata": {
    "papermill": {
     "duration": 0.031394,
     "end_time": "2022-02-01T15:38:24.799424",
     "exception": false,
     "start_time": "2022-02-01T15:38:24.768030",
     "status": "completed"
    },
    "tags": []
   },
   "source": [
    "#### a. Remove any punctuation from the string such as (. “” ; ').\n",
    "#### b. Remove emojis.\n",
    "#### c. Remove Latin language.\n",
    "#### d. Delete multispacer.\n",
    "#### e. Delete '...' and replace it with space.\n",
    "#### f. Replace multiple letters with a single one except ا, و, ي, ه .\n",
    "#### g. Replace more than 3 “ه” (a laugh) with “ههه ”.\n",
    "#### h. Delete numbers.\n",
    "#### g. Remove non-letters from the word such as (+ = ~ $).\n",
    "#### h. Replace “إ”, “أ”, and “ آ” with bare alif \" ا\" regardless of position in the word.\n",
    "#### k. Replace “گ” with “ك”."
   ]
  },
  {
   "cell_type": "code",
   "execution_count": 7,
   "id": "6eadaacd",
   "metadata": {
    "execution": {
     "iopub.execute_input": "2022-02-01T15:38:24.874336Z",
     "iopub.status.busy": "2022-02-01T15:38:24.873620Z",
     "iopub.status.idle": "2022-02-01T15:38:24.876761Z",
     "shell.execute_reply": "2022-02-01T15:38:24.876169Z",
     "shell.execute_reply.started": "2022-02-01T15:02:02.279231Z"
    },
    "papermill": {
     "duration": 0.045264,
     "end_time": "2022-02-01T15:38:24.876892",
     "exception": false,
     "start_time": "2022-02-01T15:38:24.831628",
     "status": "completed"
    },
    "tags": []
   },
   "outputs": [],
   "source": [
    "def process(text):\n",
    "    text = araby.strip_tashkeel(text) #delete *tashkil\n",
    "\n",
    "    text = re.sub('\\ـ+', ' ', text)  # delete letter madda\n",
    "    text= re.sub(r'\\...',' ',text)\n",
    "    text= re.sub(r'[a-z]','',text)\n",
    "    text= re.sub(r'[A-Z]','',text)\n",
    "    text= re.sub(r'[0-9]','',text)\n",
    "    text= re.sub(r'_',' ',text)\n",
    "    text= re.sub(r'[^\\w\\s]','',text) # remove imojies\n",
    "    text = re.sub('\\ر+', 'ر', text)  # duplicate ra2\n",
    "    text = re.sub('\\اا+','ا',text)     #duplicate alif\n",
    "    text = re.sub('\\ووو+','و',text)  #duplicate waw (more than 3 times goes to 1\n",
    "    text = re.sub('\\ف+','ف',text)  #duplicate fa2\n",
    "    text = re.sub('\\ههه+','ههه',text)  #duplicate ha2 (more than 3 times goes to 1\n",
    "    text = re.sub('\\ة+','ة',text)\n",
    "    text = re.sub('\\ييي+','ي',text)\n",
    "    text = re.sub('أ','ا',text) # after to avoid mixing\n",
    "    text = re.sub('آ','ا',text) # after to avoid mixing\n",
    "    text = re.sub('إ','ا',text) # after to avoid mixing\n",
    "    #text = re.sub('ة','ه',text) # after ةة to avoid mixing ههه\n",
    "    #text = re.sub('ى','ي',text)\n",
    "    text = re.sub(\"گ\", \"ك\", text)\n",
    "    text = re.sub('ي+','ي',text)\n",
    "    text = remove_stop_words(text) #remove stopwords\n",
    "    text = \" \".join(text.split()) #delete multispace\n",
    "    return text"
   ]
  },
  {
   "cell_type": "code",
   "execution_count": 8,
   "id": "f3da4c83",
   "metadata": {
    "execution": {
     "iopub.execute_input": "2022-02-01T15:38:24.953868Z",
     "iopub.status.busy": "2022-02-01T15:38:24.953001Z",
     "iopub.status.idle": "2022-02-01T15:38:28.426311Z",
     "shell.execute_reply": "2022-02-01T15:38:28.425221Z",
     "shell.execute_reply.started": "2022-02-01T15:02:02.292843Z"
    },
    "papermill": {
     "duration": 3.516575,
     "end_time": "2022-02-01T15:38:28.426527",
     "exception": false,
     "start_time": "2022-02-01T15:38:24.909952",
     "status": "completed"
    },
    "tags": []
   },
   "outputs": [
    {
     "name": "stderr",
     "output_type": "stream",
     "text": [
      "/opt/conda/lib/python3.7/site-packages/pandas/core/indexing.py:1732: SettingWithCopyWarning: \n",
      "A value is trying to be set on a copy of a slice from a DataFrame\n",
      "\n",
      "See the caveats in the documentation: https://pandas.pydata.org/pandas-docs/stable/user_guide/indexing.html#returning-a-view-versus-a-copy\n",
      "  self._setitem_single_block(indexer, value, name)\n"
     ]
    }
   ],
   "source": [
    "data['cleaning_process']=data['comment']\n",
    "for i in range(len(data['comment'])):\n",
    "    data['cleaning_process'].iloc[i]=process(data['comment'].iloc[i])"
   ]
  },
  {
   "cell_type": "code",
   "execution_count": 9,
   "id": "2b5cdf06",
   "metadata": {
    "execution": {
     "iopub.execute_input": "2022-02-01T15:38:28.494251Z",
     "iopub.status.busy": "2022-02-01T15:38:28.493290Z",
     "iopub.status.idle": "2022-02-01T15:38:28.505432Z",
     "shell.execute_reply": "2022-02-01T15:38:28.506033Z",
     "shell.execute_reply.started": "2022-02-01T15:02:06.785052Z"
    },
    "papermill": {
     "duration": 0.047557,
     "end_time": "2022-02-01T15:38:28.506210",
     "exception": false,
     "start_time": "2022-02-01T15:38:28.458653",
     "status": "completed"
    },
    "tags": []
   },
   "outputs": [
    {
     "data": {
      "text/html": [
       "<div>\n",
       "<style scoped>\n",
       "    .dataframe tbody tr th:only-of-type {\n",
       "        vertical-align: middle;\n",
       "    }\n",
       "\n",
       "    .dataframe tbody tr th {\n",
       "        vertical-align: top;\n",
       "    }\n",
       "\n",
       "    .dataframe thead th {\n",
       "        text-align: right;\n",
       "    }\n",
       "</style>\n",
       "<table border=\"1\" class=\"dataframe\">\n",
       "  <thead>\n",
       "    <tr style=\"text-align: right;\">\n",
       "      <th></th>\n",
       "      <th>ID</th>\n",
       "      <th>comment</th>\n",
       "      <th>cleaning_process</th>\n",
       "    </tr>\n",
       "  </thead>\n",
       "  <tbody>\n",
       "    <tr>\n",
       "      <th>0</th>\n",
       "      <td>1</td>\n",
       "      <td>التلقيح نعمة لانه فابور,الناس في مصر را كتخلص عليه</td>\n",
       "      <td>التلقيح نعمة فابورالناس مصر كتخلص</td>\n",
       "    </tr>\n",
       "    <tr>\n",
       "      <th>1</th>\n",
       "      <td>2</td>\n",
       "      <td>أثبت التلقيح أهميته في الحد من الوفيات</td>\n",
       "      <td>اثبت التلقيح اهميته الحد الوفيات</td>\n",
       "    </tr>\n",
       "    <tr>\n",
       "      <th>2</th>\n",
       "      <td>3</td>\n",
       "      <td>انا ملقح جوج مرات والحمد لله عندي المناعة ديالي حيت درت التلقيح ومعندي حتى مشكل ومتشكر المسؤولين وملكنا الحبيب</td>\n",
       "      <td>ملقح جوج مرات والحمد عندي المناعة ديالي درت التلقيح ومعندي مشكل ومتشكر المسؤولين وملكنا الحبيب</td>\n",
       "    </tr>\n",
       "    <tr>\n",
       "      <th>3</th>\n",
       "      <td>4</td>\n",
       "      <td>كنــا متأكديــن من أن جلالـة الملــك سيجعل التلقيـح مجاني لكل المغاربة وحتى الأجانب ، وكنا متأكدين أنه أول من سيقوم يالتلقيح ، ليس لتحفيزنا ، وزرع الثقة ، لكن بوصفه قائدنا الأول ، و الساهر على سلا...</td>\n",
       "      <td>متاكدي جلال المل سيجعل التلقي مجاني المغاربة وحتى الاجانب وكنا متاكدين انه سيقوم يالتلقيح لتحفيزنا وزرع الثقة بوصفه قائدنا الاول الساهر سلامتنا وامنن نتمنى صحة وعافية وطول العم وننتظر يصل دورنا اخ...</td>\n",
       "    </tr>\n",
       "    <tr>\n",
       "      <th>4</th>\n",
       "      <td>5</td>\n",
       "      <td>شعب أناني مشبع بثقافة الخرافة والمؤامرة… بنادم عندو هانية يضر ملايين آخرين باش يرضي الغرور ديالو ونزعة المؤامرة اللي مزروعة ليه فالمخ بحال يلا تصنع لينا اليورانيوم المخصب غادي يستهدفوه باش يقضيوا ...</td>\n",
       "      <td>شعب اناني مشبع بثقافة الخرافة والمؤامرة بنادم هانية يضر ملاين اخرين يرضي الغرور ونزعة المؤامرة مزروعة فالمخ يلا تصنع اليورانيوم المخصب غادي يستهدفوه يقضيوا باللقاح الله ملاير البشر لقحات فالصين وا...</td>\n",
       "    </tr>\n",
       "    <tr>\n",
       "      <th>...</th>\n",
       "      <td>...</td>\n",
       "      <td>...</td>\n",
       "      <td>...</td>\n",
       "    </tr>\n",
       "    <tr>\n",
       "      <th>235</th>\n",
       "      <td>236</td>\n",
       "      <td>\\nحنا المشكل ديالنا هما الفيروسات البشرية أما الفيروسات الأخرى ولله الحمد لدينا مناعة ربانية تحمينا حنا راه ماشي قطيع ديال الأغنام باش كتقولوا مناعة جماعية سيرو ديرو التلقيح الأصحاب الرضاعة اللي ك...</td>\n",
       "      <td>المشكل الفيروسات البشرية الفيروسات الاخرى ولله الحمد لدينا مناعة ربانية تحمينا قطيع الاغنام كتقولوا مناعة جماعية سيرو ديرو التلقيح الاصحاب الرضاعة كيمصوا ثروات الفقراء خليهم يعيشوا الفقراء تحدانا ...</td>\n",
       "    </tr>\n",
       "    <tr>\n",
       "      <th>236</th>\n",
       "      <td>237</td>\n",
       "      <td>\\nالسيد بلفقيه، اسمحوا لي بسؤال : هل الملقحون يصابون بكوفيد19 ؟؟؟ هل ينقلون العدوى للآخرين؟؟؟\\nحسب ما حدث في كل بقاع العالم من انتشار المتحور دلتا، تأكد أن الملقحين يصابون و ينقلون العدوى…..\\nالسؤ...</td>\n",
       "      <td>السيد بلفقيه اسمحوا بسؤال الملقحون يصابون بكوفيد ينقلون العدوى للاخرين حدث بقاع العالم انتشار المتحور دلتا تاكد الملقحين يصابون ينقلون العدوى السؤال الهدف التلقيح اذا الملقح مثله الملقح يصابان ينق...</td>\n",
       "    </tr>\n",
       "    <tr>\n",
       "      <th>237</th>\n",
       "      <td>238</td>\n",
       "      <td>اللقاح هدفه هو تقليص عدد سكان العالم لأنه أصبح جد دروري الوصول لهدفهم سيكون عبر تحديد النسل في الأخير هدا الوباء هو إعلامي و إقتصادي أكتر من صحي</td>\n",
       "      <td>اللقاح هدفه تقليص عدد سكان العالم اصبح جد دروري الوصول لهدفهم سيكون تحديد النسل الاخير الوباء اعلامي اقتصادي صحي</td>\n",
       "    </tr>\n",
       "    <tr>\n",
       "      <th>238</th>\n",
       "      <td>239</td>\n",
       "      <td>\\nاخوتي في الله انه و بعد يقين في الله قررت ان لا اتلقى اي لقاح كما هي الابقار لها حرية اختيار المسلك الدي ترتضيه الى مصيرها المحتوم … و لكن و بعد الحاح من طرف كل أفراد العائلة قررت ان أتلقى اللقا...</td>\n",
       "      <td>اخوتي الله انه يقين الله قرت اتلقى اي لقاح الابقار حرية اختيار المسلك ترتضيه مصيرها المحتوم الحاح طرف افراد العائلة قرت اتلقى اللقاح اخدت الجرعة الاولى مر نصف شهر دلك اللقاح اوكسفورد اي استرازينكا...</td>\n",
       "    </tr>\n",
       "    <tr>\n",
       "      <th>239</th>\n",
       "      <td>240</td>\n",
       "      <td>\\nانضمو الى اتحاد المغاربة الرافضين لجواز التلقيح لتكثيف قوتنا ضد إنتهاكات حقوق أساسية\\n</td>\n",
       "      <td>انضمو اتحاد المغاربة الرافضين لجواز التلقيح لتكثيف قوتنا ضد انتهاكات حقوق اساسية</td>\n",
       "    </tr>\n",
       "  </tbody>\n",
       "</table>\n",
       "<p>240 rows × 3 columns</p>\n",
       "</div>"
      ],
      "text/plain": [
       "      ID  \\\n",
       "0      1   \n",
       "1      2   \n",
       "2      3   \n",
       "3      4   \n",
       "4      5   \n",
       "..   ...   \n",
       "235  236   \n",
       "236  237   \n",
       "237  238   \n",
       "238  239   \n",
       "239  240   \n",
       "\n",
       "                                                                                                                                                                                                     comment  \\\n",
       "0                                                                                                                                                         التلقيح نعمة لانه فابور,الناس في مصر را كتخلص عليه   \n",
       "1                                                                                                                                                                     أثبت التلقيح أهميته في الحد من الوفيات   \n",
       "2                                                                                             انا ملقح جوج مرات والحمد لله عندي المناعة ديالي حيت درت التلقيح ومعندي حتى مشكل ومتشكر المسؤولين وملكنا الحبيب   \n",
       "3    كنــا متأكديــن من أن جلالـة الملــك سيجعل التلقيـح مجاني لكل المغاربة وحتى الأجانب ، وكنا متأكدين أنه أول من سيقوم يالتلقيح ، ليس لتحفيزنا ، وزرع الثقة ، لكن بوصفه قائدنا الأول ، و الساهر على سلا...   \n",
       "4    شعب أناني مشبع بثقافة الخرافة والمؤامرة… بنادم عندو هانية يضر ملايين آخرين باش يرضي الغرور ديالو ونزعة المؤامرة اللي مزروعة ليه فالمخ بحال يلا تصنع لينا اليورانيوم المخصب غادي يستهدفوه باش يقضيوا ...   \n",
       "..                                                                                                                                                                                                       ...   \n",
       "235  \\nحنا المشكل ديالنا هما الفيروسات البشرية أما الفيروسات الأخرى ولله الحمد لدينا مناعة ربانية تحمينا حنا راه ماشي قطيع ديال الأغنام باش كتقولوا مناعة جماعية سيرو ديرو التلقيح الأصحاب الرضاعة اللي ك...   \n",
       "236  \\nالسيد بلفقيه، اسمحوا لي بسؤال : هل الملقحون يصابون بكوفيد19 ؟؟؟ هل ينقلون العدوى للآخرين؟؟؟\\nحسب ما حدث في كل بقاع العالم من انتشار المتحور دلتا، تأكد أن الملقحين يصابون و ينقلون العدوى…..\\nالسؤ...   \n",
       "237                                                         اللقاح هدفه هو تقليص عدد سكان العالم لأنه أصبح جد دروري الوصول لهدفهم سيكون عبر تحديد النسل في الأخير هدا الوباء هو إعلامي و إقتصادي أكتر من صحي   \n",
       "238  \\nاخوتي في الله انه و بعد يقين في الله قررت ان لا اتلقى اي لقاح كما هي الابقار لها حرية اختيار المسلك الدي ترتضيه الى مصيرها المحتوم … و لكن و بعد الحاح من طرف كل أفراد العائلة قررت ان أتلقى اللقا...   \n",
       "239                                                                                                                 \\nانضمو الى اتحاد المغاربة الرافضين لجواز التلقيح لتكثيف قوتنا ضد إنتهاكات حقوق أساسية\\n   \n",
       "\n",
       "                                                                                                                                                                                            cleaning_process  \n",
       "0                                                                                                                                                                          التلقيح نعمة فابورالناس مصر كتخلص  \n",
       "1                                                                                                                                                                           اثبت التلقيح اهميته الحد الوفيات  \n",
       "2                                                                                                             ملقح جوج مرات والحمد عندي المناعة ديالي درت التلقيح ومعندي مشكل ومتشكر المسؤولين وملكنا الحبيب  \n",
       "3    متاكدي جلال المل سيجعل التلقي مجاني المغاربة وحتى الاجانب وكنا متاكدين انه سيقوم يالتلقيح لتحفيزنا وزرع الثقة بوصفه قائدنا الاول الساهر سلامتنا وامنن نتمنى صحة وعافية وطول العم وننتظر يصل دورنا اخ...  \n",
       "4    شعب اناني مشبع بثقافة الخرافة والمؤامرة بنادم هانية يضر ملاين اخرين يرضي الغرور ونزعة المؤامرة مزروعة فالمخ يلا تصنع اليورانيوم المخصب غادي يستهدفوه يقضيوا باللقاح الله ملاير البشر لقحات فالصين وا...  \n",
       "..                                                                                                                                                                                                       ...  \n",
       "235  المشكل الفيروسات البشرية الفيروسات الاخرى ولله الحمد لدينا مناعة ربانية تحمينا قطيع الاغنام كتقولوا مناعة جماعية سيرو ديرو التلقيح الاصحاب الرضاعة كيمصوا ثروات الفقراء خليهم يعيشوا الفقراء تحدانا ...  \n",
       "236  السيد بلفقيه اسمحوا بسؤال الملقحون يصابون بكوفيد ينقلون العدوى للاخرين حدث بقاع العالم انتشار المتحور دلتا تاكد الملقحين يصابون ينقلون العدوى السؤال الهدف التلقيح اذا الملقح مثله الملقح يصابان ينق...  \n",
       "237                                                                                         اللقاح هدفه تقليص عدد سكان العالم اصبح جد دروري الوصول لهدفهم سيكون تحديد النسل الاخير الوباء اعلامي اقتصادي صحي  \n",
       "238  اخوتي الله انه يقين الله قرت اتلقى اي لقاح الابقار حرية اختيار المسلك ترتضيه مصيرها المحتوم الحاح طرف افراد العائلة قرت اتلقى اللقاح اخدت الجرعة الاولى مر نصف شهر دلك اللقاح اوكسفورد اي استرازينكا...  \n",
       "239                                                                                                                         انضمو اتحاد المغاربة الرافضين لجواز التلقيح لتكثيف قوتنا ضد انتهاكات حقوق اساسية  \n",
       "\n",
       "[240 rows x 3 columns]"
      ]
     },
     "execution_count": 9,
     "metadata": {},
     "output_type": "execute_result"
    }
   ],
   "source": [
    "data"
   ]
  },
  {
   "cell_type": "markdown",
   "id": "c4b181bc",
   "metadata": {
    "papermill": {
     "duration": 0.032453,
     "end_time": "2022-02-01T15:38:28.571780",
     "exception": false,
     "start_time": "2022-02-01T15:38:28.539327",
     "status": "completed"
    },
    "tags": []
   },
   "source": [
    "### **Stemming**"
   ]
  },
  {
   "cell_type": "markdown",
   "id": "98783576",
   "metadata": {
    "papermill": {
     "duration": 0.032499,
     "end_time": "2022-02-01T15:38:28.636445",
     "exception": false,
     "start_time": "2022-02-01T15:38:28.603946",
     "status": "completed"
    },
    "tags": []
   },
   "source": [
    "#### I used ISRI, it is a root-extraction stemmer without a root dictionary, which serves as a light stemmer. Light stemming means removing diacritics represented by short vowels, stop words, punctuation, numbers, the definite article, prefixes, and suffixes .\n",
    "#### The characteristics of this stemmer are:\n",
    "#### 1) it is implemented in python and integrated into NLTK which can be invoked easily\n",
    "#### 2) it is well documented in the NLTK documentation."
   ]
  },
  {
   "cell_type": "code",
   "execution_count": 10,
   "id": "3280e084",
   "metadata": {
    "execution": {
     "iopub.execute_input": "2022-02-01T15:38:28.706509Z",
     "iopub.status.busy": "2022-02-01T15:38:28.705675Z",
     "iopub.status.idle": "2022-02-01T15:38:28.707179Z",
     "shell.execute_reply": "2022-02-01T15:38:28.707664Z",
     "shell.execute_reply.started": "2022-02-01T15:02:06.801284Z"
    },
    "papermill": {
     "duration": 0.038972,
     "end_time": "2022-02-01T15:38:28.707831",
     "exception": false,
     "start_time": "2022-02-01T15:38:28.668859",
     "status": "completed"
    },
    "tags": []
   },
   "outputs": [],
   "source": [
    "import argparse\n",
    "\n",
    "from nltk.stem.isri import ISRIStemmer\n",
    "import sys"
   ]
  },
  {
   "cell_type": "code",
   "execution_count": 11,
   "id": "9dddd875",
   "metadata": {
    "execution": {
     "iopub.execute_input": "2022-02-01T15:38:28.776240Z",
     "iopub.status.busy": "2022-02-01T15:38:28.775596Z",
     "iopub.status.idle": "2022-02-01T15:38:28.781871Z",
     "shell.execute_reply": "2022-02-01T15:38:28.782417Z",
     "shell.execute_reply.started": "2022-02-01T15:02:06.810614Z"
    },
    "papermill": {
     "duration": 0.041797,
     "end_time": "2022-02-01T15:38:28.782598",
     "exception": false,
     "start_time": "2022-02-01T15:38:28.740801",
     "status": "completed"
    },
    "tags": []
   },
   "outputs": [],
   "source": [
    "def light_stem(text):\n",
    "    words = text.split()\n",
    "    result = list()\n",
    "    stemmer = ISRIStemmer()\n",
    "    for word in words:\n",
    "        word = stemmer.norm(word, num=1)      # remove diacritics which representing Arabic short vowels\n",
    "        if not word in stemmer.stop_words:    # exclude stop words from being processed\n",
    "            word = stemmer.pre32(word)        # remove length three and length two prefixes in this order\n",
    "            word = stemmer.suf32(word)        # remove length three and length two suffixes in this order\n",
    "            word = stemmer.waw(word)          # remove connective ‘و’ if it precedes a word beginning with ‘و’\n",
    "            word = stemmer.norm(word, num=2)  # normalize initial hamza to bare alif\n",
    "        result.append(word)\n",
    "    return ' '.join(result)"
   ]
  },
  {
   "cell_type": "code",
   "execution_count": 12,
   "id": "e7fc5ac6",
   "metadata": {
    "execution": {
     "iopub.execute_input": "2022-02-01T15:38:28.851777Z",
     "iopub.status.busy": "2022-02-01T15:38:28.851159Z",
     "iopub.status.idle": "2022-02-01T15:38:28.855338Z",
     "shell.execute_reply": "2022-02-01T15:38:28.855941Z",
     "shell.execute_reply.started": "2022-02-01T15:02:06.822041Z"
    },
    "papermill": {
     "duration": 0.040362,
     "end_time": "2022-02-01T15:38:28.856130",
     "exception": false,
     "start_time": "2022-02-01T15:38:28.815768",
     "status": "completed"
    },
    "tags": []
   },
   "outputs": [],
   "source": [
    "data['stemming']=data['comment']"
   ]
  },
  {
   "cell_type": "code",
   "execution_count": 13,
   "id": "fe439146",
   "metadata": {
    "execution": {
     "iopub.execute_input": "2022-02-01T15:38:28.925404Z",
     "iopub.status.busy": "2022-02-01T15:38:28.924553Z",
     "iopub.status.idle": "2022-02-01T15:38:29.062752Z",
     "shell.execute_reply": "2022-02-01T15:38:29.063251Z",
     "shell.execute_reply.started": "2022-02-01T15:02:06.836239Z"
    },
    "papermill": {
     "duration": 0.174239,
     "end_time": "2022-02-01T15:38:29.063456",
     "exception": false,
     "start_time": "2022-02-01T15:38:28.889217",
     "status": "completed"
    },
    "tags": []
   },
   "outputs": [
    {
     "name": "stderr",
     "output_type": "stream",
     "text": [
      "/opt/conda/lib/python3.7/site-packages/pandas/core/indexing.py:1732: SettingWithCopyWarning: \n",
      "A value is trying to be set on a copy of a slice from a DataFrame\n",
      "\n",
      "See the caveats in the documentation: https://pandas.pydata.org/pandas-docs/stable/user_guide/indexing.html#returning-a-view-versus-a-copy\n",
      "  self._setitem_single_block(indexer, value, name)\n"
     ]
    }
   ],
   "source": [
    "for i in range(len(data['comment'])):\n",
    "    data['stemming'].iloc[i]=light_stem(data['cleaning_process'].iloc[i])\n",
    "            \n",
    "               "
   ]
  },
  {
   "cell_type": "code",
   "execution_count": 14,
   "id": "f01a0f67",
   "metadata": {
    "execution": {
     "iopub.execute_input": "2022-02-01T15:38:29.137458Z",
     "iopub.status.busy": "2022-02-01T15:38:29.136402Z",
     "iopub.status.idle": "2022-02-01T15:38:29.148734Z",
     "shell.execute_reply": "2022-02-01T15:38:29.149223Z",
     "shell.execute_reply.started": "2022-02-01T15:02:07.002323Z"
    },
    "papermill": {
     "duration": 0.051633,
     "end_time": "2022-02-01T15:38:29.149421",
     "exception": false,
     "start_time": "2022-02-01T15:38:29.097788",
     "status": "completed"
    },
    "tags": []
   },
   "outputs": [
    {
     "data": {
      "text/html": [
       "<div>\n",
       "<style scoped>\n",
       "    .dataframe tbody tr th:only-of-type {\n",
       "        vertical-align: middle;\n",
       "    }\n",
       "\n",
       "    .dataframe tbody tr th {\n",
       "        vertical-align: top;\n",
       "    }\n",
       "\n",
       "    .dataframe thead th {\n",
       "        text-align: right;\n",
       "    }\n",
       "</style>\n",
       "<table border=\"1\" class=\"dataframe\">\n",
       "  <thead>\n",
       "    <tr style=\"text-align: right;\">\n",
       "      <th></th>\n",
       "      <th>ID</th>\n",
       "      <th>comment</th>\n",
       "      <th>cleaning_process</th>\n",
       "      <th>stemming</th>\n",
       "    </tr>\n",
       "  </thead>\n",
       "  <tbody>\n",
       "    <tr>\n",
       "      <th>0</th>\n",
       "      <td>1</td>\n",
       "      <td>التلقيح نعمة لانه فابور,الناس في مصر را كتخلص عليه</td>\n",
       "      <td>التلقيح نعمة فابورالناس مصر كتخلص</td>\n",
       "      <td>تلقيح نعمة فابورالناس مصر كتخلص</td>\n",
       "    </tr>\n",
       "    <tr>\n",
       "      <th>1</th>\n",
       "      <td>2</td>\n",
       "      <td>أثبت التلقيح أهميته في الحد من الوفيات</td>\n",
       "      <td>اثبت التلقيح اهميته الحد الوفيات</td>\n",
       "      <td>اثبت تلقيح اهميته الحد وفي</td>\n",
       "    </tr>\n",
       "    <tr>\n",
       "      <th>2</th>\n",
       "      <td>3</td>\n",
       "      <td>انا ملقح جوج مرات والحمد لله عندي المناعة ديالي حيت درت التلقيح ومعندي حتى مشكل ومتشكر المسؤولين وملكنا الحبيب</td>\n",
       "      <td>ملقح جوج مرات والحمد عندي المناعة ديالي درت التلقيح ومعندي مشكل ومتشكر المسؤولين وملكنا الحبيب</td>\n",
       "      <td>ملقح جوج مرات حمد عندي مناعة ديالي درت تلقيح ومعندي مشكل ومتشكر مسؤول وملك حبيب</td>\n",
       "    </tr>\n",
       "    <tr>\n",
       "      <th>3</th>\n",
       "      <td>4</td>\n",
       "      <td>كنــا متأكديــن من أن جلالـة الملــك سيجعل التلقيـح مجاني لكل المغاربة وحتى الأجانب ، وكنا متأكدين أنه أول من سيقوم يالتلقيح ، ليس لتحفيزنا ، وزرع الثقة ، لكن بوصفه قائدنا الأول ، و الساهر على سلا...</td>\n",
       "      <td>متاكدي جلال المل سيجعل التلقي مجاني المغاربة وحتى الاجانب وكنا متاكدين انه سيقوم يالتلقيح لتحفيزنا وزرع الثقة بوصفه قائدنا الاول الساهر سلامتنا وامنن نتمنى صحة وعافية وطول العم وننتظر يصل دورنا اخ...</td>\n",
       "      <td>متاكدي جلال المل سيجعل تلقي مجا مغاربة وحتى اجانب وكنا متاكد انه سيقوم يالتلقيح لتحفيز وزرع ثقة بوصفه قائد اول ساهر سلامت وامنن نتمنى صحة وعافية وطول العم وننتظر يصل دور اخذ لقاح</td>\n",
       "    </tr>\n",
       "    <tr>\n",
       "      <th>4</th>\n",
       "      <td>5</td>\n",
       "      <td>شعب أناني مشبع بثقافة الخرافة والمؤامرة… بنادم عندو هانية يضر ملايين آخرين باش يرضي الغرور ديالو ونزعة المؤامرة اللي مزروعة ليه فالمخ بحال يلا تصنع لينا اليورانيوم المخصب غادي يستهدفوه باش يقضيوا ...</td>\n",
       "      <td>شعب اناني مشبع بثقافة الخرافة والمؤامرة بنادم هانية يضر ملاين اخرين يرضي الغرور ونزعة المؤامرة مزروعة فالمخ يلا تصنع اليورانيوم المخصب غادي يستهدفوه يقضيوا باللقاح الله ملاير البشر لقحات فالصين وا...</td>\n",
       "      <td>شعب انا مشبع بثقافة خرافة مؤامرة بنادم هانية يضر ملا اخر يرضي غرور ونزعة مؤامرة مزروعة فالمخ يلا تصنع يورانيوم مخصب غادي يستهدفوه يقضي لقاح الله ملاير بشر لقح فالص هند ودول فايتة بلي دالساكنة مشفن...</td>\n",
       "    </tr>\n",
       "    <tr>\n",
       "      <th>...</th>\n",
       "      <td>...</td>\n",
       "      <td>...</td>\n",
       "      <td>...</td>\n",
       "      <td>...</td>\n",
       "    </tr>\n",
       "    <tr>\n",
       "      <th>235</th>\n",
       "      <td>236</td>\n",
       "      <td>\\nحنا المشكل ديالنا هما الفيروسات البشرية أما الفيروسات الأخرى ولله الحمد لدينا مناعة ربانية تحمينا حنا راه ماشي قطيع ديال الأغنام باش كتقولوا مناعة جماعية سيرو ديرو التلقيح الأصحاب الرضاعة اللي ك...</td>\n",
       "      <td>المشكل الفيروسات البشرية الفيروسات الاخرى ولله الحمد لدينا مناعة ربانية تحمينا قطيع الاغنام كتقولوا مناعة جماعية سيرو ديرو التلقيح الاصحاب الرضاعة كيمصوا ثروات الفقراء خليهم يعيشوا الفقراء تحدانا ...</td>\n",
       "      <td>مشكل فيروس بشرية فيروس اخرى ولله حمد لدي مناعة ربانية تحمي قطيع اغنام كتقول مناعة جماعية سيرو ديرو تلقيح اصحاب رضاعة كيمص ثرو فقراء خلي يعيش فقراء تحدا سيمشي رجعة تخربيق صافي لجنة علمية يريد تحكم ...</td>\n",
       "    </tr>\n",
       "    <tr>\n",
       "      <th>236</th>\n",
       "      <td>237</td>\n",
       "      <td>\\nالسيد بلفقيه، اسمحوا لي بسؤال : هل الملقحون يصابون بكوفيد19 ؟؟؟ هل ينقلون العدوى للآخرين؟؟؟\\nحسب ما حدث في كل بقاع العالم من انتشار المتحور دلتا، تأكد أن الملقحين يصابون و ينقلون العدوى…..\\nالسؤ...</td>\n",
       "      <td>السيد بلفقيه اسمحوا بسؤال الملقحون يصابون بكوفيد ينقلون العدوى للاخرين حدث بقاع العالم انتشار المتحور دلتا تاكد الملقحين يصابون ينقلون العدوى السؤال الهدف التلقيح اذا الملقح مثله الملقح يصابان ينق...</td>\n",
       "      <td>سيد بلفقيه اسمح بسؤال ملقح يصاب بكوفيد ينقل عدوى اخر حدث بقاع عالم انتشار متحور دلتا تاكد ملقح يصاب ينقل عدوى سؤال هدف تلقيح اذا ملقح مثله ملقح يصاب ينقل عدوى نرغم ناس تلقيح فهذه مسالة مواز قوى مو...</td>\n",
       "    </tr>\n",
       "    <tr>\n",
       "      <th>237</th>\n",
       "      <td>238</td>\n",
       "      <td>اللقاح هدفه هو تقليص عدد سكان العالم لأنه أصبح جد دروري الوصول لهدفهم سيكون عبر تحديد النسل في الأخير هدا الوباء هو إعلامي و إقتصادي أكتر من صحي</td>\n",
       "      <td>اللقاح هدفه تقليص عدد سكان العالم اصبح جد دروري الوصول لهدفهم سيكون تحديد النسل الاخير الوباء اعلامي اقتصادي صحي</td>\n",
       "      <td>لقاح هدفه تقليص عدد سكان عالم اصبح جد دروري وصول لهدف سيك تحديد نسل اخير وباء اعلامي اقتصادي صحي</td>\n",
       "    </tr>\n",
       "    <tr>\n",
       "      <th>238</th>\n",
       "      <td>239</td>\n",
       "      <td>\\nاخوتي في الله انه و بعد يقين في الله قررت ان لا اتلقى اي لقاح كما هي الابقار لها حرية اختيار المسلك الدي ترتضيه الى مصيرها المحتوم … و لكن و بعد الحاح من طرف كل أفراد العائلة قررت ان أتلقى اللقا...</td>\n",
       "      <td>اخوتي الله انه يقين الله قرت اتلقى اي لقاح الابقار حرية اختيار المسلك ترتضيه مصيرها المحتوم الحاح طرف افراد العائلة قرت اتلقى اللقاح اخدت الجرعة الاولى مر نصف شهر دلك اللقاح اوكسفورد اي استرازينكا...</td>\n",
       "      <td>اخوتي الله انه يقين الله قرت اتلقى اي لقاح ابقار حرية اختيار مسلك ترتضيه مصير محتوم حاح طرف افراد عائلة قرت اتلقى لقاح اخدت جرعة اولى مر نصف شهر دلك لقاح اوكسفورد اي استرازينكا اول لاخدي قاح اعا ا...</td>\n",
       "    </tr>\n",
       "    <tr>\n",
       "      <th>239</th>\n",
       "      <td>240</td>\n",
       "      <td>\\nانضمو الى اتحاد المغاربة الرافضين لجواز التلقيح لتكثيف قوتنا ضد إنتهاكات حقوق أساسية\\n</td>\n",
       "      <td>انضمو اتحاد المغاربة الرافضين لجواز التلقيح لتكثيف قوتنا ضد انتهاكات حقوق اساسية</td>\n",
       "      <td>انضمو اتحاد مغاربة رافض لجواز تلقيح لتكثيف قوت ضد انتهاك حقوق اساسية</td>\n",
       "    </tr>\n",
       "  </tbody>\n",
       "</table>\n",
       "<p>240 rows × 4 columns</p>\n",
       "</div>"
      ],
      "text/plain": [
       "      ID  \\\n",
       "0      1   \n",
       "1      2   \n",
       "2      3   \n",
       "3      4   \n",
       "4      5   \n",
       "..   ...   \n",
       "235  236   \n",
       "236  237   \n",
       "237  238   \n",
       "238  239   \n",
       "239  240   \n",
       "\n",
       "                                                                                                                                                                                                     comment  \\\n",
       "0                                                                                                                                                         التلقيح نعمة لانه فابور,الناس في مصر را كتخلص عليه   \n",
       "1                                                                                                                                                                     أثبت التلقيح أهميته في الحد من الوفيات   \n",
       "2                                                                                             انا ملقح جوج مرات والحمد لله عندي المناعة ديالي حيت درت التلقيح ومعندي حتى مشكل ومتشكر المسؤولين وملكنا الحبيب   \n",
       "3    كنــا متأكديــن من أن جلالـة الملــك سيجعل التلقيـح مجاني لكل المغاربة وحتى الأجانب ، وكنا متأكدين أنه أول من سيقوم يالتلقيح ، ليس لتحفيزنا ، وزرع الثقة ، لكن بوصفه قائدنا الأول ، و الساهر على سلا...   \n",
       "4    شعب أناني مشبع بثقافة الخرافة والمؤامرة… بنادم عندو هانية يضر ملايين آخرين باش يرضي الغرور ديالو ونزعة المؤامرة اللي مزروعة ليه فالمخ بحال يلا تصنع لينا اليورانيوم المخصب غادي يستهدفوه باش يقضيوا ...   \n",
       "..                                                                                                                                                                                                       ...   \n",
       "235  \\nحنا المشكل ديالنا هما الفيروسات البشرية أما الفيروسات الأخرى ولله الحمد لدينا مناعة ربانية تحمينا حنا راه ماشي قطيع ديال الأغنام باش كتقولوا مناعة جماعية سيرو ديرو التلقيح الأصحاب الرضاعة اللي ك...   \n",
       "236  \\nالسيد بلفقيه، اسمحوا لي بسؤال : هل الملقحون يصابون بكوفيد19 ؟؟؟ هل ينقلون العدوى للآخرين؟؟؟\\nحسب ما حدث في كل بقاع العالم من انتشار المتحور دلتا، تأكد أن الملقحين يصابون و ينقلون العدوى…..\\nالسؤ...   \n",
       "237                                                         اللقاح هدفه هو تقليص عدد سكان العالم لأنه أصبح جد دروري الوصول لهدفهم سيكون عبر تحديد النسل في الأخير هدا الوباء هو إعلامي و إقتصادي أكتر من صحي   \n",
       "238  \\nاخوتي في الله انه و بعد يقين في الله قررت ان لا اتلقى اي لقاح كما هي الابقار لها حرية اختيار المسلك الدي ترتضيه الى مصيرها المحتوم … و لكن و بعد الحاح من طرف كل أفراد العائلة قررت ان أتلقى اللقا...   \n",
       "239                                                                                                                 \\nانضمو الى اتحاد المغاربة الرافضين لجواز التلقيح لتكثيف قوتنا ضد إنتهاكات حقوق أساسية\\n   \n",
       "\n",
       "                                                                                                                                                                                            cleaning_process  \\\n",
       "0                                                                                                                                                                          التلقيح نعمة فابورالناس مصر كتخلص   \n",
       "1                                                                                                                                                                           اثبت التلقيح اهميته الحد الوفيات   \n",
       "2                                                                                                             ملقح جوج مرات والحمد عندي المناعة ديالي درت التلقيح ومعندي مشكل ومتشكر المسؤولين وملكنا الحبيب   \n",
       "3    متاكدي جلال المل سيجعل التلقي مجاني المغاربة وحتى الاجانب وكنا متاكدين انه سيقوم يالتلقيح لتحفيزنا وزرع الثقة بوصفه قائدنا الاول الساهر سلامتنا وامنن نتمنى صحة وعافية وطول العم وننتظر يصل دورنا اخ...   \n",
       "4    شعب اناني مشبع بثقافة الخرافة والمؤامرة بنادم هانية يضر ملاين اخرين يرضي الغرور ونزعة المؤامرة مزروعة فالمخ يلا تصنع اليورانيوم المخصب غادي يستهدفوه يقضيوا باللقاح الله ملاير البشر لقحات فالصين وا...   \n",
       "..                                                                                                                                                                                                       ...   \n",
       "235  المشكل الفيروسات البشرية الفيروسات الاخرى ولله الحمد لدينا مناعة ربانية تحمينا قطيع الاغنام كتقولوا مناعة جماعية سيرو ديرو التلقيح الاصحاب الرضاعة كيمصوا ثروات الفقراء خليهم يعيشوا الفقراء تحدانا ...   \n",
       "236  السيد بلفقيه اسمحوا بسؤال الملقحون يصابون بكوفيد ينقلون العدوى للاخرين حدث بقاع العالم انتشار المتحور دلتا تاكد الملقحين يصابون ينقلون العدوى السؤال الهدف التلقيح اذا الملقح مثله الملقح يصابان ينق...   \n",
       "237                                                                                         اللقاح هدفه تقليص عدد سكان العالم اصبح جد دروري الوصول لهدفهم سيكون تحديد النسل الاخير الوباء اعلامي اقتصادي صحي   \n",
       "238  اخوتي الله انه يقين الله قرت اتلقى اي لقاح الابقار حرية اختيار المسلك ترتضيه مصيرها المحتوم الحاح طرف افراد العائلة قرت اتلقى اللقاح اخدت الجرعة الاولى مر نصف شهر دلك اللقاح اوكسفورد اي استرازينكا...   \n",
       "239                                                                                                                         انضمو اتحاد المغاربة الرافضين لجواز التلقيح لتكثيف قوتنا ضد انتهاكات حقوق اساسية   \n",
       "\n",
       "                                                                                                                                                                                                    stemming  \n",
       "0                                                                                                                                                                            تلقيح نعمة فابورالناس مصر كتخلص  \n",
       "1                                                                                                                                                                                 اثبت تلقيح اهميته الحد وفي  \n",
       "2                                                                                                                            ملقح جوج مرات حمد عندي مناعة ديالي درت تلقيح ومعندي مشكل ومتشكر مسؤول وملك حبيب  \n",
       "3                         متاكدي جلال المل سيجعل تلقي مجا مغاربة وحتى اجانب وكنا متاكد انه سيقوم يالتلقيح لتحفيز وزرع ثقة بوصفه قائد اول ساهر سلامت وامنن نتمنى صحة وعافية وطول العم وننتظر يصل دور اخذ لقاح  \n",
       "4    شعب انا مشبع بثقافة خرافة مؤامرة بنادم هانية يضر ملا اخر يرضي غرور ونزعة مؤامرة مزروعة فالمخ يلا تصنع يورانيوم مخصب غادي يستهدفوه يقضي لقاح الله ملاير بشر لقح فالص هند ودول فايتة بلي دالساكنة مشفن...  \n",
       "..                                                                                                                                                                                                       ...  \n",
       "235  مشكل فيروس بشرية فيروس اخرى ولله حمد لدي مناعة ربانية تحمي قطيع اغنام كتقول مناعة جماعية سيرو ديرو تلقيح اصحاب رضاعة كيمص ثرو فقراء خلي يعيش فقراء تحدا سيمشي رجعة تخربيق صافي لجنة علمية يريد تحكم ...  \n",
       "236  سيد بلفقيه اسمح بسؤال ملقح يصاب بكوفيد ينقل عدوى اخر حدث بقاع عالم انتشار متحور دلتا تاكد ملقح يصاب ينقل عدوى سؤال هدف تلقيح اذا ملقح مثله ملقح يصاب ينقل عدوى نرغم ناس تلقيح فهذه مسالة مواز قوى مو...  \n",
       "237                                                                                                         لقاح هدفه تقليص عدد سكان عالم اصبح جد دروري وصول لهدف سيك تحديد نسل اخير وباء اعلامي اقتصادي صحي  \n",
       "238  اخوتي الله انه يقين الله قرت اتلقى اي لقاح ابقار حرية اختيار مسلك ترتضيه مصير محتوم حاح طرف افراد عائلة قرت اتلقى لقاح اخدت جرعة اولى مر نصف شهر دلك لقاح اوكسفورد اي استرازينكا اول لاخدي قاح اعا ا...  \n",
       "239                                                                                                                                     انضمو اتحاد مغاربة رافض لجواز تلقيح لتكثيف قوت ضد انتهاك حقوق اساسية  \n",
       "\n",
       "[240 rows x 4 columns]"
      ]
     },
     "execution_count": 14,
     "metadata": {},
     "output_type": "execute_result"
    }
   ],
   "source": [
    "data"
   ]
  },
  {
   "cell_type": "markdown",
   "id": "3f35a706",
   "metadata": {
    "papermill": {
     "duration": 0.034276,
     "end_time": "2022-02-01T15:38:29.217878",
     "exception": false,
     "start_time": "2022-02-01T15:38:29.183602",
     "status": "completed"
    },
    "tags": []
   },
   "source": [
    "## **Model Creation: LEXICON BASED APPROACH**"
   ]
  },
  {
   "cell_type": "markdown",
   "id": "861f6c55",
   "metadata": {
    "papermill": {
     "duration": 0.033721,
     "end_time": "2022-02-01T15:38:29.286097",
     "exception": false,
     "start_time": "2022-02-01T15:38:29.252376",
     "status": "completed"
    },
    "tags": []
   },
   "source": [
    "#### Since there is a lack in the Moroccan dialect word dictionaries, I built my own one. I created a function that return the number of positive and negative words based on the dictionary I created, it contains 712 “positive” and 1200 “negative”."
   ]
  },
  {
   "cell_type": "code",
   "execution_count": 15,
   "id": "f923e7c8",
   "metadata": {
    "execution": {
     "iopub.execute_input": "2022-02-01T15:38:29.356882Z",
     "iopub.status.busy": "2022-02-01T15:38:29.356199Z",
     "iopub.status.idle": "2022-02-01T15:38:29.361525Z",
     "shell.execute_reply": "2022-02-01T15:38:29.362082Z",
     "shell.execute_reply.started": "2022-02-01T15:02:07.020333Z"
    },
    "papermill": {
     "duration": 0.042485,
     "end_time": "2022-02-01T15:38:29.362266",
     "exception": false,
     "start_time": "2022-02-01T15:38:29.319781",
     "status": "completed"
    },
    "tags": []
   },
   "outputs": [],
   "source": [
    "def get_corpus():\n",
    "    with codecs.open(\"../input/lexicon-based-approach-data/positive_version91.txt\", encoding=\"utf-8\", errors=\"ignore\") as myfile:\n",
    "         pos_terms=myfile.read()\n",
    "    pos_terms=pos_terms.split()\n",
    "    \n",
    "    with codecs.open(\"../input/lexicon-based-approach-data/negative_version91.txt\", encoding=\"utf-8\" , errors=\"ignore\") as myfie:\n",
    "        neg_terms=myfie.read()\n",
    "    neg_terms=neg_terms.split()\n",
    "    return pos_terms,neg_terms"
   ]
  },
  {
   "cell_type": "markdown",
   "id": "3132a339",
   "metadata": {
    "papermill": {
     "duration": 0.033921,
     "end_time": "2022-02-01T15:38:29.430848",
     "exception": false,
     "start_time": "2022-02-01T15:38:29.396927",
     "status": "completed"
    },
    "tags": []
   },
   "source": [
    "#### Then, I created a function that calculate the subtraction between the positive score and the negative score,\n",
    "#### If the comment contains more positive word then it is obviously positive, otherwise it is negative."
   ]
  },
  {
   "cell_type": "code",
   "execution_count": 16,
   "id": "d6eb6421",
   "metadata": {
    "execution": {
     "iopub.execute_input": "2022-02-01T15:38:29.503470Z",
     "iopub.status.busy": "2022-02-01T15:38:29.502776Z",
     "iopub.status.idle": "2022-02-01T15:38:29.509936Z",
     "shell.execute_reply": "2022-02-01T15:38:29.509389Z",
     "shell.execute_reply.started": "2022-02-01T15:02:07.032069Z"
    },
    "papermill": {
     "duration": 0.044608,
     "end_time": "2022-02-01T15:38:29.510096",
     "exception": false,
     "start_time": "2022-02-01T15:38:29.465488",
     "status": "completed"
    },
    "tags": []
   },
   "outputs": [],
   "source": [
    "def text_to_valeur_sentiment(text):\n",
    "    i=0\n",
    "    j=0\n",
    "    text_words = []\n",
    "    words = text.split()\n",
    "    positive_terms,neg_terms=get_corpus()\n",
    "    for word in words:\n",
    "        if word in positive_terms :\n",
    "            \n",
    "            i=i+1\n",
    "        if word in neg_terms :\n",
    "            \n",
    "            j=j+1\n",
    "    if (i-j)>0:\n",
    "        return  1\n",
    "    if (i-j)<0:\n",
    "        return  0\n",
    "    if (i-j)==0:\n",
    "        return 1"
   ]
  },
  {
   "cell_type": "code",
   "execution_count": 17,
   "id": "b167e011",
   "metadata": {
    "execution": {
     "iopub.execute_input": "2022-02-01T15:38:29.586067Z",
     "iopub.status.busy": "2022-02-01T15:38:29.585222Z",
     "iopub.status.idle": "2022-02-01T15:38:29.587783Z",
     "shell.execute_reply": "2022-02-01T15:38:29.588267Z",
     "shell.execute_reply.started": "2022-02-01T15:02:07.046047Z"
    },
    "papermill": {
     "duration": 0.043304,
     "end_time": "2022-02-01T15:38:29.588475",
     "exception": false,
     "start_time": "2022-02-01T15:38:29.545171",
     "status": "completed"
    },
    "tags": []
   },
   "outputs": [],
   "source": [
    "def text_to_score(text):\n",
    "    i=0\n",
    "    j=0\n",
    "    text_words = []\n",
    "    words = text.split()\n",
    "    positive_terms,neg_terms=get_corpus()\n",
    "    for word in words:\n",
    "        if word in positive_terms :\n",
    "            \n",
    "            i=i+1\n",
    "        if word in neg_terms :\n",
    "            \n",
    "            j=j+1\n",
    "    return i,j"
   ]
  },
  {
   "cell_type": "code",
   "execution_count": 18,
   "id": "c067dc7e",
   "metadata": {
    "execution": {
     "iopub.execute_input": "2022-02-01T15:38:29.662168Z",
     "iopub.status.busy": "2022-02-01T15:38:29.661469Z",
     "iopub.status.idle": "2022-02-01T15:38:29.679980Z",
     "shell.execute_reply": "2022-02-01T15:38:29.680542Z",
     "shell.execute_reply.started": "2022-02-01T15:02:07.059364Z"
    },
    "papermill": {
     "duration": 0.058287,
     "end_time": "2022-02-01T15:38:29.680722",
     "exception": false,
     "start_time": "2022-02-01T15:38:29.622435",
     "status": "completed"
    },
    "tags": []
   },
   "outputs": [
    {
     "data": {
      "text/plain": [
       "0"
      ]
     },
     "execution_count": 18,
     "metadata": {},
     "output_type": "execute_result"
    }
   ],
   "source": [
    "text_to_score('الحمدلله عنيا دمعو بالفرحة')[0]"
   ]
  },
  {
   "cell_type": "code",
   "execution_count": 19,
   "id": "e0a5018f",
   "metadata": {
    "execution": {
     "iopub.execute_input": "2022-02-01T15:38:29.758110Z",
     "iopub.status.busy": "2022-02-01T15:38:29.754558Z",
     "iopub.status.idle": "2022-02-01T15:38:29.759900Z",
     "shell.execute_reply": "2022-02-01T15:38:29.760414Z",
     "shell.execute_reply.started": "2022-02-01T15:02:07.089961Z"
    },
    "papermill": {
     "duration": 0.043796,
     "end_time": "2022-02-01T15:38:29.760607",
     "exception": false,
     "start_time": "2022-02-01T15:38:29.716811",
     "status": "completed"
    },
    "tags": []
   },
   "outputs": [],
   "source": [
    "data['pos_score']=data['comment']\n",
    "data['neg_score']=data['comment']"
   ]
  },
  {
   "cell_type": "code",
   "execution_count": 20,
   "id": "384a06e2",
   "metadata": {
    "execution": {
     "iopub.execute_input": "2022-02-01T15:38:29.836873Z",
     "iopub.status.busy": "2022-02-01T15:38:29.836175Z",
     "iopub.status.idle": "2022-02-01T15:38:31.101907Z",
     "shell.execute_reply": "2022-02-01T15:38:31.101204Z",
     "shell.execute_reply.started": "2022-02-01T15:02:07.099339Z"
    },
    "papermill": {
     "duration": 1.306251,
     "end_time": "2022-02-01T15:38:31.102062",
     "exception": false,
     "start_time": "2022-02-01T15:38:29.795811",
     "status": "completed"
    },
    "tags": []
   },
   "outputs": [
    {
     "name": "stderr",
     "output_type": "stream",
     "text": [
      "/opt/conda/lib/python3.7/site-packages/pandas/core/indexing.py:1732: SettingWithCopyWarning: \n",
      "A value is trying to be set on a copy of a slice from a DataFrame\n",
      "\n",
      "See the caveats in the documentation: https://pandas.pydata.org/pandas-docs/stable/user_guide/indexing.html#returning-a-view-versus-a-copy\n",
      "  self._setitem_single_block(indexer, value, name)\n"
     ]
    }
   ],
   "source": [
    "for i in range(len(data['comment'])):\n",
    "    data['pos_score'].iloc[i]=text_to_score(data['stemming'].iloc[i])[0]\n",
    "for i in range(len(data['comment'])):\n",
    "    data['neg_score'].iloc[i]=text_to_score(data['stemming'].iloc[i])[1]"
   ]
  },
  {
   "cell_type": "code",
   "execution_count": 21,
   "id": "f240b20c",
   "metadata": {
    "execution": {
     "iopub.execute_input": "2022-02-01T15:38:31.177892Z",
     "iopub.status.busy": "2022-02-01T15:38:31.176929Z",
     "iopub.status.idle": "2022-02-01T15:38:31.179470Z",
     "shell.execute_reply": "2022-02-01T15:38:31.178847Z",
     "shell.execute_reply.started": "2022-02-01T15:02:08.365868Z"
    },
    "papermill": {
     "duration": 0.0426,
     "end_time": "2022-02-01T15:38:31.179610",
     "exception": false,
     "start_time": "2022-02-01T15:38:31.137010",
     "status": "completed"
    },
    "tags": []
   },
   "outputs": [],
   "source": [
    "data['label_lexicon']=data['comment']"
   ]
  },
  {
   "cell_type": "code",
   "execution_count": 22,
   "id": "5e495ec9",
   "metadata": {
    "execution": {
     "iopub.execute_input": "2022-02-01T15:38:31.251974Z",
     "iopub.status.busy": "2022-02-01T15:38:31.251308Z",
     "iopub.status.idle": "2022-02-01T15:38:31.821802Z",
     "shell.execute_reply": "2022-02-01T15:38:31.822336Z",
     "shell.execute_reply.started": "2022-02-01T15:02:08.375421Z"
    },
    "papermill": {
     "duration": 0.608191,
     "end_time": "2022-02-01T15:38:31.822523",
     "exception": false,
     "start_time": "2022-02-01T15:38:31.214332",
     "status": "completed"
    },
    "tags": []
   },
   "outputs": [],
   "source": [
    "for i in range(len(data['comment'])):\n",
    "    data['label_lexicon'].iloc[i]=text_to_valeur_sentiment(data['stemming'].iloc[i])"
   ]
  },
  {
   "cell_type": "code",
   "execution_count": 23,
   "id": "0d89ccb0",
   "metadata": {
    "execution": {
     "iopub.execute_input": "2022-02-01T15:38:31.894954Z",
     "iopub.status.busy": "2022-02-01T15:38:31.894317Z",
     "iopub.status.idle": "2022-02-01T15:38:31.906307Z",
     "shell.execute_reply": "2022-02-01T15:38:31.905840Z",
     "shell.execute_reply.started": "2022-02-01T15:02:09.004297Z"
    },
    "papermill": {
     "duration": 0.049036,
     "end_time": "2022-02-01T15:38:31.906456",
     "exception": false,
     "start_time": "2022-02-01T15:38:31.857420",
     "status": "completed"
    },
    "tags": []
   },
   "outputs": [
    {
     "data": {
      "text/html": [
       "<div>\n",
       "<style scoped>\n",
       "    .dataframe tbody tr th:only-of-type {\n",
       "        vertical-align: middle;\n",
       "    }\n",
       "\n",
       "    .dataframe tbody tr th {\n",
       "        vertical-align: top;\n",
       "    }\n",
       "\n",
       "    .dataframe thead th {\n",
       "        text-align: right;\n",
       "    }\n",
       "</style>\n",
       "<table border=\"1\" class=\"dataframe\">\n",
       "  <thead>\n",
       "    <tr style=\"text-align: right;\">\n",
       "      <th></th>\n",
       "      <th>ID</th>\n",
       "      <th>comment</th>\n",
       "      <th>cleaning_process</th>\n",
       "      <th>stemming</th>\n",
       "      <th>pos_score</th>\n",
       "      <th>neg_score</th>\n",
       "      <th>label_lexicon</th>\n",
       "    </tr>\n",
       "  </thead>\n",
       "  <tbody>\n",
       "    <tr>\n",
       "      <th>0</th>\n",
       "      <td>1</td>\n",
       "      <td>التلقيح نعمة لانه فابور,الناس في مصر را كتخلص عليه</td>\n",
       "      <td>التلقيح نعمة فابورالناس مصر كتخلص</td>\n",
       "      <td>تلقيح نعمة فابورالناس مصر كتخلص</td>\n",
       "      <td>1</td>\n",
       "      <td>0</td>\n",
       "      <td>1</td>\n",
       "    </tr>\n",
       "    <tr>\n",
       "      <th>1</th>\n",
       "      <td>2</td>\n",
       "      <td>أثبت التلقيح أهميته في الحد من الوفيات</td>\n",
       "      <td>اثبت التلقيح اهميته الحد الوفيات</td>\n",
       "      <td>اثبت تلقيح اهميته الحد وفي</td>\n",
       "      <td>1</td>\n",
       "      <td>1</td>\n",
       "      <td>1</td>\n",
       "    </tr>\n",
       "    <tr>\n",
       "      <th>2</th>\n",
       "      <td>3</td>\n",
       "      <td>انا ملقح جوج مرات والحمد لله عندي المناعة ديالي حيت درت التلقيح ومعندي حتى مشكل ومتشكر المسؤولين وملكنا الحبيب</td>\n",
       "      <td>ملقح جوج مرات والحمد عندي المناعة ديالي درت التلقيح ومعندي مشكل ومتشكر المسؤولين وملكنا الحبيب</td>\n",
       "      <td>ملقح جوج مرات حمد عندي مناعة ديالي درت تلقيح ومعندي مشكل ومتشكر مسؤول وملك حبيب</td>\n",
       "      <td>4</td>\n",
       "      <td>1</td>\n",
       "      <td>1</td>\n",
       "    </tr>\n",
       "    <tr>\n",
       "      <th>3</th>\n",
       "      <td>4</td>\n",
       "      <td>كنــا متأكديــن من أن جلالـة الملــك سيجعل التلقيـح مجاني لكل المغاربة وحتى الأجانب ، وكنا متأكدين أنه أول من سيقوم يالتلقيح ، ليس لتحفيزنا ، وزرع الثقة ، لكن بوصفه قائدنا الأول ، و الساهر على سلا...</td>\n",
       "      <td>متاكدي جلال المل سيجعل التلقي مجاني المغاربة وحتى الاجانب وكنا متاكدين انه سيقوم يالتلقيح لتحفيزنا وزرع الثقة بوصفه قائدنا الاول الساهر سلامتنا وامنن نتمنى صحة وعافية وطول العم وننتظر يصل دورنا اخ...</td>\n",
       "      <td>متاكدي جلال المل سيجعل تلقي مجا مغاربة وحتى اجانب وكنا متاكد انه سيقوم يالتلقيح لتحفيز وزرع ثقة بوصفه قائد اول ساهر سلامت وامنن نتمنى صحة وعافية وطول العم وننتظر يصل دور اخذ لقاح</td>\n",
       "      <td>2</td>\n",
       "      <td>1</td>\n",
       "      <td>1</td>\n",
       "    </tr>\n",
       "    <tr>\n",
       "      <th>4</th>\n",
       "      <td>5</td>\n",
       "      <td>شعب أناني مشبع بثقافة الخرافة والمؤامرة… بنادم عندو هانية يضر ملايين آخرين باش يرضي الغرور ديالو ونزعة المؤامرة اللي مزروعة ليه فالمخ بحال يلا تصنع لينا اليورانيوم المخصب غادي يستهدفوه باش يقضيوا ...</td>\n",
       "      <td>شعب اناني مشبع بثقافة الخرافة والمؤامرة بنادم هانية يضر ملاين اخرين يرضي الغرور ونزعة المؤامرة مزروعة فالمخ يلا تصنع اليورانيوم المخصب غادي يستهدفوه يقضيوا باللقاح الله ملاير البشر لقحات فالصين وا...</td>\n",
       "      <td>شعب انا مشبع بثقافة خرافة مؤامرة بنادم هانية يضر ملا اخر يرضي غرور ونزعة مؤامرة مزروعة فالمخ يلا تصنع يورانيوم مخصب غادي يستهدفوه يقضي لقاح الله ملاير بشر لقح فالص هند ودول فايتة بلي دالساكنة مشفن...</td>\n",
       "      <td>6</td>\n",
       "      <td>3</td>\n",
       "      <td>1</td>\n",
       "    </tr>\n",
       "  </tbody>\n",
       "</table>\n",
       "</div>"
      ],
      "text/plain": [
       "   ID  \\\n",
       "0   1   \n",
       "1   2   \n",
       "2   3   \n",
       "3   4   \n",
       "4   5   \n",
       "\n",
       "                                                                                                                                                                                                   comment  \\\n",
       "0                                                                                                                                                       التلقيح نعمة لانه فابور,الناس في مصر را كتخلص عليه   \n",
       "1                                                                                                                                                                   أثبت التلقيح أهميته في الحد من الوفيات   \n",
       "2                                                                                           انا ملقح جوج مرات والحمد لله عندي المناعة ديالي حيت درت التلقيح ومعندي حتى مشكل ومتشكر المسؤولين وملكنا الحبيب   \n",
       "3  كنــا متأكديــن من أن جلالـة الملــك سيجعل التلقيـح مجاني لكل المغاربة وحتى الأجانب ، وكنا متأكدين أنه أول من سيقوم يالتلقيح ، ليس لتحفيزنا ، وزرع الثقة ، لكن بوصفه قائدنا الأول ، و الساهر على سلا...   \n",
       "4  شعب أناني مشبع بثقافة الخرافة والمؤامرة… بنادم عندو هانية يضر ملايين آخرين باش يرضي الغرور ديالو ونزعة المؤامرة اللي مزروعة ليه فالمخ بحال يلا تصنع لينا اليورانيوم المخصب غادي يستهدفوه باش يقضيوا ...   \n",
       "\n",
       "                                                                                                                                                                                          cleaning_process  \\\n",
       "0                                                                                                                                                                        التلقيح نعمة فابورالناس مصر كتخلص   \n",
       "1                                                                                                                                                                         اثبت التلقيح اهميته الحد الوفيات   \n",
       "2                                                                                                           ملقح جوج مرات والحمد عندي المناعة ديالي درت التلقيح ومعندي مشكل ومتشكر المسؤولين وملكنا الحبيب   \n",
       "3  متاكدي جلال المل سيجعل التلقي مجاني المغاربة وحتى الاجانب وكنا متاكدين انه سيقوم يالتلقيح لتحفيزنا وزرع الثقة بوصفه قائدنا الاول الساهر سلامتنا وامنن نتمنى صحة وعافية وطول العم وننتظر يصل دورنا اخ...   \n",
       "4  شعب اناني مشبع بثقافة الخرافة والمؤامرة بنادم هانية يضر ملاين اخرين يرضي الغرور ونزعة المؤامرة مزروعة فالمخ يلا تصنع اليورانيوم المخصب غادي يستهدفوه يقضيوا باللقاح الله ملاير البشر لقحات فالصين وا...   \n",
       "\n",
       "                                                                                                                                                                                                  stemming  \\\n",
       "0                                                                                                                                                                          تلقيح نعمة فابورالناس مصر كتخلص   \n",
       "1                                                                                                                                                                               اثبت تلقيح اهميته الحد وفي   \n",
       "2                                                                                                                          ملقح جوج مرات حمد عندي مناعة ديالي درت تلقيح ومعندي مشكل ومتشكر مسؤول وملك حبيب   \n",
       "3                       متاكدي جلال المل سيجعل تلقي مجا مغاربة وحتى اجانب وكنا متاكد انه سيقوم يالتلقيح لتحفيز وزرع ثقة بوصفه قائد اول ساهر سلامت وامنن نتمنى صحة وعافية وطول العم وننتظر يصل دور اخذ لقاح   \n",
       "4  شعب انا مشبع بثقافة خرافة مؤامرة بنادم هانية يضر ملا اخر يرضي غرور ونزعة مؤامرة مزروعة فالمخ يلا تصنع يورانيوم مخصب غادي يستهدفوه يقضي لقاح الله ملاير بشر لقح فالص هند ودول فايتة بلي دالساكنة مشفن...   \n",
       "\n",
       "  pos_score neg_score label_lexicon  \n",
       "0         1         0             1  \n",
       "1         1         1             1  \n",
       "2         4         1             1  \n",
       "3         2         1             1  \n",
       "4         6         3             1  "
      ]
     },
     "execution_count": 23,
     "metadata": {},
     "output_type": "execute_result"
    }
   ],
   "source": [
    "data_top = data.head() \n",
    "# display \n",
    "data_top"
   ]
  },
  {
   "cell_type": "code",
   "execution_count": null,
   "id": "465fe847",
   "metadata": {
    "papermill": {
     "duration": 0.03488,
     "end_time": "2022-02-01T15:38:31.976480",
     "exception": false,
     "start_time": "2022-02-01T15:38:31.941600",
     "status": "completed"
    },
    "tags": []
   },
   "outputs": [],
   "source": []
  },
  {
   "cell_type": "code",
   "execution_count": 24,
   "id": "acfe4f1b",
   "metadata": {
    "execution": {
     "iopub.execute_input": "2022-02-01T15:38:32.049917Z",
     "iopub.status.busy": "2022-02-01T15:38:32.049305Z",
     "iopub.status.idle": "2022-02-01T15:38:32.069249Z",
     "shell.execute_reply": "2022-02-01T15:38:32.069834Z",
     "shell.execute_reply.started": "2022-02-01T15:02:09.022674Z"
    },
    "papermill": {
     "duration": 0.0584,
     "end_time": "2022-02-01T15:38:32.070011",
     "exception": false,
     "start_time": "2022-02-01T15:38:32.011611",
     "status": "completed"
    },
    "tags": []
   },
   "outputs": [],
   "source": [
    "\n",
    "finaldata = pd.read_csv(\"../input/test-satge2/test_stage2_with_all columns.csv\" )\n",
    "y2 = finaldata['label']\n"
   ]
  },
  {
   "cell_type": "code",
   "execution_count": 25,
   "id": "11e9c359",
   "metadata": {
    "execution": {
     "iopub.execute_input": "2022-02-01T15:38:32.143243Z",
     "iopub.status.busy": "2022-02-01T15:38:32.142592Z",
     "iopub.status.idle": "2022-02-01T15:38:32.160318Z",
     "shell.execute_reply": "2022-02-01T15:38:32.159777Z",
     "shell.execute_reply.started": "2022-02-01T15:02:25.636812Z"
    },
    "papermill": {
     "duration": 0.055428,
     "end_time": "2022-02-01T15:38:32.160486",
     "exception": false,
     "start_time": "2022-02-01T15:38:32.105058",
     "status": "completed"
    },
    "tags": []
   },
   "outputs": [],
   "source": [
    "ID1=[]\n",
    "label_lexicon1=[]\n",
    "for i in range (240):\n",
    "    ID1.append(data['ID'].iloc[i])\n",
    "    label_lexicon1.append(data['label_lexicon'].iloc[i])\n",
    "\n",
    "\n",
    "import pandas as pd\n",
    "d = {\n",
    "    'ID':ID1,\n",
    "    'label': label_lexicon1\n",
    "}\n",
    "\n",
    "df = pd.DataFrame(d, columns = ['ID','label'])\n",
    "df.to_csv('PredictedLabels.csv', index=False)"
   ]
  },
  {
   "cell_type": "code",
   "execution_count": 26,
   "id": "3f9a6cd2",
   "metadata": {
    "execution": {
     "iopub.execute_input": "2022-02-01T15:38:32.233749Z",
     "iopub.status.busy": "2022-02-01T15:38:32.233129Z",
     "iopub.status.idle": "2022-02-01T15:38:32.255467Z",
     "shell.execute_reply": "2022-02-01T15:38:32.256192Z",
     "shell.execute_reply.started": "2022-02-01T15:03:12.616356Z"
    },
    "papermill": {
     "duration": 0.060805,
     "end_time": "2022-02-01T15:38:32.256431",
     "exception": false,
     "start_time": "2022-02-01T15:38:32.195626",
     "status": "completed"
    },
    "tags": []
   },
   "outputs": [
    {
     "name": "stdout",
     "output_type": "stream",
     "text": [
      "Accuracy: 91.66666666666666\n",
      "Precision: 91.67824395665463\n",
      "Recall: 91.66666666666666\n",
      "Classification Report: \n",
      "              precision    recall  f1-score   support\n",
      "\n",
      "           0       0.92      0.91      0.92       120\n",
      "           1       0.91      0.93      0.92       120\n",
      "\n",
      "    accuracy                           0.92       240\n",
      "   macro avg       0.92      0.92      0.92       240\n",
      "weighted avg       0.92      0.92      0.92       240\n",
      "\n"
     ]
    }
   ],
   "source": [
    "#test the score of the file(compare the predicted labeled with the fake one)\n",
    "#similar to kaggle scoring\n",
    "\n",
    "finaldata = pd.read_csv(\"../input/test-satge2/test_stage2_with_all columns.csv\" )\n",
    "y2 = finaldata['label']\n",
    "\n",
    "finaldata = pd.read_csv(\"PredictedLabels.csv\" )\n",
    "y4 = finaldata['label']\n",
    "\n",
    "print(\"Accuracy:\",metrics.accuracy_score(y2, y4)*100)\n",
    "print(\"Precision:\",precision_score(y2, y4,average='weighted')*100)\n",
    "print(\"Recall:\",recall_score(y2, y4,average='micro')*100)\n",
    "print(\"Classification Report: \")\n",
    "print(classification_report(y2, y4))"
   ]
  }
 ],
 "metadata": {
  "kernelspec": {
   "display_name": "Python 3",
   "language": "python",
   "name": "python3"
  },
  "language_info": {
   "codemirror_mode": {
    "name": "ipython",
    "version": 3
   },
   "file_extension": ".py",
   "mimetype": "text/x-python",
   "name": "python",
   "nbconvert_exporter": "python",
   "pygments_lexer": "ipython3",
   "version": "3.7.12"
  },
  "papermill": {
   "default_parameters": {},
   "duration": 51.131721,
   "end_time": "2022-02-01T15:38:33.104172",
   "environment_variables": {},
   "exception": null,
   "input_path": "__notebook__.ipynb",
   "output_path": "__notebook__.ipynb",
   "parameters": {},
   "start_time": "2022-02-01T15:37:41.972451",
   "version": "2.3.3"
  }
 },
 "nbformat": 4,
 "nbformat_minor": 5
}
